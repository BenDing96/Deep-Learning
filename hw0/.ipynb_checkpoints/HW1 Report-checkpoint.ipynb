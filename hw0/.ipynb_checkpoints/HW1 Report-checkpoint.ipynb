{
 "cells": [
  {
   "cell_type": "markdown",
   "metadata": {},
   "source": [
    "# HW 1 Report"
   ]
  },
  {
   "cell_type": "markdown",
   "metadata": {},
   "source": [
    "## Task 1"
   ]
  },
  {
   "cell_type": "code",
   "execution_count": null,
   "metadata": {},
   "outputs": [],
   "source": [
    "! conda info"
   ]
  },
  {
   "cell_type": "raw",
   "metadata": {},
   "source": [
    "active environment : base \n",
    "    active env location : /Users/dingzheyu/anaconda3\n",
    "            shell level : 1\n",
    "       user config file : /Users/dingzheyu/.condarc\n",
    " populated config files : /Users/dingzheyu/.condarc\n",
    "          conda version : 4.7.11\n",
    "    conda-build version : 3.10.5\n",
    "         python version : 3.6.5.final.0\n",
    "       virtual packages : \n",
    "       base environment : /Users/dingzheyu/anaconda3  (writable)\n",
    "           channel URLs : https://repo.anaconda.com/pkgs/main/osx-64\n",
    "                          https://repo.anaconda.com/pkgs/main/noarch\n",
    "                          https://repo.anaconda.com/pkgs/r/osx-64\n",
    "                          https://repo.anaconda.com/pkgs/r/noarch\n",
    "          package cache : /Users/dingzheyu/anaconda3/pkgs\n",
    "                          /Users/dingzheyu/.conda/pkgs\n",
    "       envs directories : /Users/dingzheyu/anaconda3/envs\n",
    "                          /Users/dingzheyu/.conda/envs\n",
    "               platform : osx-64\n",
    "             user-agent : conda/4.7.11 requests/2.18.4 CPython/3.6.5 Darwin/18.6.0 OSX/10.14.5\n",
    "                UID:GID : 501:20\n",
    "             netrc file : None\n",
    "           offline mode : False"
   ]
  },
  {
   "cell_type": "markdown",
   "metadata": {},
   "source": [
    "## Task 2"
   ]
  },
  {
   "cell_type": "code",
   "execution_count": 1,
   "metadata": {},
   "outputs": [],
   "source": [
    "import numpy as np\n",
    "import scipy.linalg"
   ]
  },
  {
   "cell_type": "code",
   "execution_count": 2,
   "metadata": {},
   "outputs": [],
   "source": [
    "a = np.random.randint(1, 10, (10, 10))"
   ]
  },
  {
   "cell_type": "code",
   "execution_count": 3,
   "metadata": {},
   "outputs": [
    {
     "data": {
      "text/plain": [
       "2"
      ]
     },
     "execution_count": 3,
     "metadata": {},
     "output_type": "execute_result"
    }
   ],
   "source": [
    "np.ndim(a)"
   ]
  },
  {
   "cell_type": "code",
   "execution_count": 4,
   "metadata": {},
   "outputs": [
    {
     "data": {
      "text/plain": [
       "100"
      ]
     },
     "execution_count": 4,
     "metadata": {},
     "output_type": "execute_result"
    }
   ],
   "source": [
    "np.size(a)"
   ]
  },
  {
   "cell_type": "code",
   "execution_count": 5,
   "metadata": {},
   "outputs": [
    {
     "data": {
      "text/plain": [
       "(10, 10)"
      ]
     },
     "execution_count": 5,
     "metadata": {},
     "output_type": "execute_result"
    }
   ],
   "source": [
    "np.shape(a)"
   ]
  },
  {
   "cell_type": "code",
   "execution_count": 6,
   "metadata": {},
   "outputs": [
    {
     "data": {
      "text/plain": [
       "10"
      ]
     },
     "execution_count": 6,
     "metadata": {},
     "output_type": "execute_result"
    }
   ],
   "source": [
    "a.shape[1]"
   ]
  },
  {
   "cell_type": "code",
   "execution_count": 7,
   "metadata": {},
   "outputs": [
    {
     "data": {
      "text/plain": [
       "array([[1., 2., 3.],\n",
       "       [4., 5., 6.]])"
      ]
     },
     "execution_count": 7,
     "metadata": {},
     "output_type": "execute_result"
    }
   ],
   "source": [
    "np.array([[1.,2.,3.], [4.,5.,6.]])"
   ]
  },
  {
   "cell_type": "code",
   "execution_count": 8,
   "metadata": {},
   "outputs": [
    {
     "data": {
      "text/plain": [
       "array([[3, 2, 9, 6, 1, 6, 1, 4, 5, 8, 2, 6, 2, 9, 6, 7, 4, 1, 5, 7],\n",
       "       [8, 5, 9, 3, 3, 5, 1, 9, 6, 8, 8, 9, 2, 5, 5, 2, 3, 4, 2, 1],\n",
       "       [2, 6, 9, 3, 1, 4, 1, 1, 7, 7, 6, 5, 1, 5, 9, 3, 3, 2, 9, 6],\n",
       "       [6, 7, 2, 5, 4, 8, 4, 5, 9, 9, 2, 3, 7, 8, 8, 4, 7, 9, 8, 3],\n",
       "       [3, 5, 7, 8, 7, 8, 4, 6, 9, 8, 5, 2, 5, 4, 2, 8, 8, 8, 3, 7],\n",
       "       [3, 8, 7, 9, 5, 4, 9, 2, 4, 8, 2, 5, 9, 2, 7, 9, 3, 7, 7, 7],\n",
       "       [9, 6, 5, 2, 8, 4, 2, 7, 6, 6, 7, 4, 4, 6, 9, 9, 1, 7, 5, 2],\n",
       "       [9, 1, 6, 3, 1, 4, 3, 1, 8, 4, 2, 4, 3, 6, 5, 1, 7, 2, 1, 7],\n",
       "       [6, 1, 8, 9, 2, 6, 1, 7, 7, 6, 3, 5, 1, 9, 7, 8, 8, 5, 7, 9],\n",
       "       [9, 4, 3, 2, 6, 2, 2, 6, 2, 8, 6, 4, 6, 3, 4, 2, 3, 4, 9, 3],\n",
       "       [9, 5, 6, 3, 3, 6, 8, 8, 9, 1, 1, 2, 9, 9, 7, 7, 3, 6, 6, 4],\n",
       "       [8, 9, 2, 5, 6, 3, 2, 8, 1, 4, 1, 4, 5, 8, 9, 1, 2, 6, 5, 4],\n",
       "       [6, 9, 9, 7, 2, 6, 2, 2, 5, 3, 1, 2, 6, 6, 5, 2, 8, 6, 9, 4],\n",
       "       [2, 9, 8, 9, 1, 1, 8, 6, 6, 9, 2, 5, 7, 3, 1, 5, 4, 1, 4, 9],\n",
       "       [3, 4, 7, 2, 7, 3, 4, 5, 2, 7, 7, 2, 4, 6, 8, 9, 2, 4, 4, 8],\n",
       "       [8, 3, 8, 8, 3, 4, 8, 5, 8, 2, 3, 6, 3, 5, 1, 2, 1, 2, 1, 2],\n",
       "       [7, 2, 3, 4, 3, 1, 3, 3, 5, 3, 7, 6, 3, 3, 1, 9, 7, 1, 4, 5],\n",
       "       [6, 1, 4, 8, 9, 6, 2, 3, 4, 6, 6, 6, 8, 9, 4, 6, 3, 3, 7, 1],\n",
       "       [8, 3, 5, 9, 5, 2, 9, 5, 5, 8, 2, 6, 8, 4, 7, 3, 2, 2, 2, 1],\n",
       "       [3, 4, 9, 7, 9, 5, 4, 2, 9, 8, 7, 3, 9, 7, 2, 8, 3, 5, 1, 2]])"
      ]
     },
     "execution_count": 8,
     "metadata": {},
     "output_type": "execute_result"
    }
   ],
   "source": [
    "b = np.random.randint(1, 10, (10, 10))\n",
    "c = np.random.randint(1, 10, (10, 10))\n",
    "d = np.random.randint(1, 10, (10, 10))\n",
    "np.block([[a,b], [c,d]])"
   ]
  },
  {
   "cell_type": "code",
   "execution_count": 9,
   "metadata": {},
   "outputs": [
    {
     "data": {
      "text/plain": [
       "array([9, 4, 3, 2, 6, 2, 2, 6, 2, 8])"
      ]
     },
     "execution_count": 9,
     "metadata": {},
     "output_type": "execute_result"
    }
   ],
   "source": [
    "a[-1]"
   ]
  },
  {
   "cell_type": "code",
   "execution_count": 10,
   "metadata": {},
   "outputs": [
    {
     "data": {
      "text/plain": [
       "3"
      ]
     },
     "execution_count": 10,
     "metadata": {},
     "output_type": "execute_result"
    }
   ],
   "source": [
    "a[1,4]"
   ]
  },
  {
   "cell_type": "code",
   "execution_count": 11,
   "metadata": {},
   "outputs": [
    {
     "name": "stdout",
     "output_type": "stream",
     "text": [
      "[[3 2 9 6 1 6 1 4 5 8]\n",
      " [8 5 9 3 3 5 1 9 6 8]\n",
      " [2 6 9 3 1 4 1 1 7 7]\n",
      " [6 7 2 5 4 8 4 5 9 9]\n",
      " [3 5 7 8 7 8 4 6 9 8]]\n",
      "[[3 2 9 6 1 6 1 4 5 8]\n",
      " [8 5 9 3 3 5 1 9 6 8]\n",
      " [2 6 9 3 1 4 1 1 7 7]\n",
      " [6 7 2 5 4 8 4 5 9 9]\n",
      " [3 5 7 8 7 8 4 6 9 8]]\n",
      "[[3 2 9 6 1 6 1 4 5 8]\n",
      " [8 5 9 3 3 5 1 9 6 8]\n",
      " [2 6 9 3 1 4 1 1 7 7]\n",
      " [6 7 2 5 4 8 4 5 9 9]\n",
      " [3 5 7 8 7 8 4 6 9 8]]\n"
     ]
    }
   ],
   "source": [
    "print(a[0:5])\n",
    "print(a[:5])\n",
    "print(a[0:5,:])"
   ]
  },
  {
   "cell_type": "code",
   "execution_count": 12,
   "metadata": {},
   "outputs": [
    {
     "data": {
      "text/plain": [
       "array([[3, 8, 7, 9, 5, 4, 9, 2, 4, 8],\n",
       "       [9, 6, 5, 2, 8, 4, 2, 7, 6, 6],\n",
       "       [9, 1, 6, 3, 1, 4, 3, 1, 8, 4],\n",
       "       [6, 1, 8, 9, 2, 6, 1, 7, 7, 6],\n",
       "       [9, 4, 3, 2, 6, 2, 2, 6, 2, 8]])"
      ]
     },
     "execution_count": 12,
     "metadata": {},
     "output_type": "execute_result"
    }
   ],
   "source": [
    "a[-5:]"
   ]
  },
  {
   "cell_type": "code",
   "execution_count": 13,
   "metadata": {},
   "outputs": [
    {
     "data": {
      "text/plain": [
       "array([[1, 6, 1, 4, 5],\n",
       "       [3, 5, 1, 9, 6],\n",
       "       [1, 4, 1, 1, 7]])"
      ]
     },
     "execution_count": 13,
     "metadata": {},
     "output_type": "execute_result"
    }
   ],
   "source": [
    "a[0:3][:,4:9]"
   ]
  },
  {
   "cell_type": "code",
   "execution_count": 14,
   "metadata": {},
   "outputs": [
    {
     "data": {
      "text/plain": [
       "array([8, 2])"
      ]
     },
     "execution_count": 14,
     "metadata": {},
     "output_type": "execute_result"
    }
   ],
   "source": [
    "a[([1,3],[0,2])]"
   ]
  },
  {
   "cell_type": "code",
   "execution_count": 15,
   "metadata": {},
   "outputs": [
    {
     "data": {
      "text/plain": [
       "array([], shape=(0, 10), dtype=int64)"
      ]
     },
     "execution_count": 15,
     "metadata": {},
     "output_type": "execute_result"
    }
   ],
   "source": [
    "a[ 2:1:2,:]"
   ]
  },
  {
   "cell_type": "code",
   "execution_count": 16,
   "metadata": {},
   "outputs": [
    {
     "data": {
      "text/plain": [
       "array([[3, 2, 9, 6, 1, 6, 1, 4, 5, 8],\n",
       "       [2, 6, 9, 3, 1, 4, 1, 1, 7, 7],\n",
       "       [3, 5, 7, 8, 7, 8, 4, 6, 9, 8],\n",
       "       [9, 6, 5, 2, 8, 4, 2, 7, 6, 6],\n",
       "       [6, 1, 8, 9, 2, 6, 1, 7, 7, 6]])"
      ]
     },
     "execution_count": 16,
     "metadata": {},
     "output_type": "execute_result"
    }
   ],
   "source": [
    "a[ ::2,:]"
   ]
  },
  {
   "cell_type": "code",
   "execution_count": 17,
   "metadata": {},
   "outputs": [
    {
     "data": {
      "text/plain": [
       "array([[9, 4, 3, 2, 6, 2, 2, 6, 2, 8],\n",
       "       [6, 1, 8, 9, 2, 6, 1, 7, 7, 6],\n",
       "       [9, 1, 6, 3, 1, 4, 3, 1, 8, 4],\n",
       "       [9, 6, 5, 2, 8, 4, 2, 7, 6, 6],\n",
       "       [3, 8, 7, 9, 5, 4, 9, 2, 4, 8],\n",
       "       [3, 5, 7, 8, 7, 8, 4, 6, 9, 8],\n",
       "       [6, 7, 2, 5, 4, 8, 4, 5, 9, 9],\n",
       "       [2, 6, 9, 3, 1, 4, 1, 1, 7, 7],\n",
       "       [8, 5, 9, 3, 3, 5, 1, 9, 6, 8],\n",
       "       [3, 2, 9, 6, 1, 6, 1, 4, 5, 8]])"
      ]
     },
     "execution_count": 17,
     "metadata": {},
     "output_type": "execute_result"
    }
   ],
   "source": [
    "a[ ::-1,:]"
   ]
  },
  {
   "cell_type": "code",
   "execution_count": 18,
   "metadata": {},
   "outputs": [
    {
     "data": {
      "text/plain": [
       "array([3, 8, 2, 6, 3, 3, 9, 9, 6, 9])"
      ]
     },
     "execution_count": 18,
     "metadata": {},
     "output_type": "execute_result"
    }
   ],
   "source": [
    "a[:len(a),0]"
   ]
  },
  {
   "cell_type": "code",
   "execution_count": 19,
   "metadata": {},
   "outputs": [
    {
     "data": {
      "text/plain": [
       "array([[3, 8, 2, 6, 3, 3, 9, 9, 6, 9],\n",
       "       [2, 5, 6, 7, 5, 8, 6, 1, 1, 4],\n",
       "       [9, 9, 9, 2, 7, 7, 5, 6, 8, 3],\n",
       "       [6, 3, 3, 5, 8, 9, 2, 3, 9, 2],\n",
       "       [1, 3, 1, 4, 7, 5, 8, 1, 2, 6],\n",
       "       [6, 5, 4, 8, 8, 4, 4, 4, 6, 2],\n",
       "       [1, 1, 1, 4, 4, 9, 2, 3, 1, 2],\n",
       "       [4, 9, 1, 5, 6, 2, 7, 1, 7, 6],\n",
       "       [5, 6, 7, 9, 9, 4, 6, 8, 7, 2],\n",
       "       [8, 8, 7, 9, 8, 8, 6, 4, 6, 8]])"
      ]
     },
     "execution_count": 19,
     "metadata": {},
     "output_type": "execute_result"
    }
   ],
   "source": [
    "a.transpose() "
   ]
  },
  {
   "cell_type": "code",
   "execution_count": 20,
   "metadata": {},
   "outputs": [
    {
     "data": {
      "text/plain": [
       "array([[3, 8, 2, 6, 3, 3, 9, 9, 6, 9],\n",
       "       [2, 5, 6, 7, 5, 8, 6, 1, 1, 4],\n",
       "       [9, 9, 9, 2, 7, 7, 5, 6, 8, 3],\n",
       "       [6, 3, 3, 5, 8, 9, 2, 3, 9, 2],\n",
       "       [1, 3, 1, 4, 7, 5, 8, 1, 2, 6],\n",
       "       [6, 5, 4, 8, 8, 4, 4, 4, 6, 2],\n",
       "       [1, 1, 1, 4, 4, 9, 2, 3, 1, 2],\n",
       "       [4, 9, 1, 5, 6, 2, 7, 1, 7, 6],\n",
       "       [5, 6, 7, 9, 9, 4, 6, 8, 7, 2],\n",
       "       [8, 8, 7, 9, 8, 8, 6, 4, 6, 8]])"
      ]
     },
     "execution_count": 20,
     "metadata": {},
     "output_type": "execute_result"
    }
   ],
   "source": [
    "a.conj().transpose()"
   ]
  },
  {
   "cell_type": "code",
   "execution_count": 21,
   "metadata": {},
   "outputs": [
    {
     "data": {
      "text/plain": [
       "array([[183, 208, 189, 245, 297, 207, 206, 205, 309, 243],\n",
       "       [232, 280, 201, 326, 347, 256, 270, 219, 327, 323],\n",
       "       [197, 213, 143, 225, 268, 189, 179, 179, 276, 211],\n",
       "       [245, 289, 249, 333, 353, 317, 280, 290, 339, 311],\n",
       "       [270, 293, 277, 360, 401, 342, 326, 338, 390, 352],\n",
       "       [290, 278, 247, 328, 382, 301, 251, 317, 356, 253],\n",
       "       [230, 265, 196, 318, 308, 283, 276, 235, 283, 314],\n",
       "       [152, 196, 135, 260, 271, 239, 184, 167, 264, 241],\n",
       "       [186, 237, 217, 320, 348, 258, 272, 245, 339, 306],\n",
       "       [186, 207, 167, 250, 237, 210, 209, 179, 230, 235]])"
      ]
     },
     "execution_count": 21,
     "metadata": {},
     "output_type": "execute_result"
    }
   ],
   "source": [
    "a @ b"
   ]
  },
  {
   "cell_type": "code",
   "execution_count": 22,
   "metadata": {},
   "outputs": [
    {
     "data": {
      "text/plain": [
       "array([[ 6, 12, 18, 54,  6, 42,  4,  4, 25, 56],\n",
       "       [64, 45, 18, 15, 15, 10,  3, 36, 12,  8],\n",
       "       [12, 30,  9, 15,  9, 12,  3,  2, 63, 42],\n",
       "       [12, 21, 14, 40, 32, 32, 28, 45, 72, 27],\n",
       "       [15, 10, 35, 32, 14, 64, 32, 48, 27, 56],\n",
       "       [ 6, 40, 63, 18, 35, 36, 27, 14, 28, 56],\n",
       "       [63, 24, 20, 12, 72, 36,  2, 49, 30, 12],\n",
       "       [18,  4, 18, 18,  5,  4, 21,  2,  8, 28],\n",
       "       [18,  5,  8, 81, 14, 48,  8, 35, 49, 54],\n",
       "       [54, 16, 18,  6, 24,  4,  6, 24, 18, 24]])"
      ]
     },
     "execution_count": 22,
     "metadata": {},
     "output_type": "execute_result"
    }
   ],
   "source": [
    "a * b"
   ]
  },
  {
   "cell_type": "code",
   "execution_count": 23,
   "metadata": {},
   "outputs": [
    {
     "data": {
      "text/plain": [
       "array([[1.5       , 0.33333333, 4.5       , 0.66666667, 0.16666667,\n",
       "        0.85714286, 0.25      , 4.        , 1.        , 1.14285714],\n",
       "       [1.        , 0.55555556, 4.5       , 0.6       , 0.6       ,\n",
       "        2.5       , 0.33333333, 2.25      , 3.        , 8.        ],\n",
       "       [0.33333333, 1.2       , 9.        , 0.6       , 0.11111111,\n",
       "        1.33333333, 0.33333333, 0.5       , 0.77777778, 1.16666667],\n",
       "       [3.        , 2.33333333, 0.28571429, 0.625     , 0.5       ,\n",
       "        2.        , 0.57142857, 0.55555556, 1.125     , 3.        ],\n",
       "       [0.6       , 2.5       , 1.4       , 2.        , 3.5       ,\n",
       "        1.        , 0.5       , 0.75      , 3.        , 1.14285714],\n",
       "       [1.5       , 1.6       , 0.77777778, 4.5       , 0.71428571,\n",
       "        0.44444444, 3.        , 0.28571429, 0.57142857, 1.14285714],\n",
       "       [1.28571429, 1.5       , 1.25      , 0.33333333, 0.88888889,\n",
       "        0.44444444, 2.        , 1.        , 1.2       , 3.        ],\n",
       "       [4.5       , 0.25      , 2.        , 0.5       , 0.2       ,\n",
       "        4.        , 0.42857143, 0.5       , 8.        , 0.57142857],\n",
       "       [2.        , 0.2       , 8.        , 1.        , 0.28571429,\n",
       "        0.75      , 0.125     , 1.4       , 1.        , 0.66666667],\n",
       "       [1.5       , 1.        , 0.5       , 0.66666667, 1.5       ,\n",
       "        1.        , 0.66666667, 1.5       , 0.22222222, 2.66666667]])"
      ]
     },
     "execution_count": 23,
     "metadata": {},
     "output_type": "execute_result"
    }
   ],
   "source": [
    "a / b"
   ]
  },
  {
   "cell_type": "code",
   "execution_count": 24,
   "metadata": {},
   "outputs": [
    {
     "data": {
      "text/plain": [
       "array([[ 27,   8, 729, 216,   1, 216,   1,  64, 125, 512],\n",
       "       [512, 125, 729,  27,  27, 125,   1, 729, 216, 512],\n",
       "       [  8, 216, 729,  27,   1,  64,   1,   1, 343, 343],\n",
       "       [216, 343,   8, 125,  64, 512,  64, 125, 729, 729],\n",
       "       [ 27, 125, 343, 512, 343, 512,  64, 216, 729, 512],\n",
       "       [ 27, 512, 343, 729, 125,  64, 729,   8,  64, 512],\n",
       "       [729, 216, 125,   8, 512,  64,   8, 343, 216, 216],\n",
       "       [729,   1, 216,  27,   1,  64,  27,   1, 512,  64],\n",
       "       [216,   1, 512, 729,   8, 216,   1, 343, 343, 216],\n",
       "       [729,  64,  27,   8, 216,   8,   8, 216,   8, 512]])"
      ]
     },
     "execution_count": 24,
     "metadata": {},
     "output_type": "execute_result"
    }
   ],
   "source": [
    "a ** 3"
   ]
  },
  {
   "cell_type": "code",
   "execution_count": 25,
   "metadata": {},
   "outputs": [
    {
     "data": {
      "text/plain": [
       "array([[ True,  True,  True,  True,  True,  True,  True,  True,  True,\n",
       "         True],\n",
       "       [ True,  True,  True,  True,  True,  True,  True,  True,  True,\n",
       "         True],\n",
       "       [ True,  True,  True,  True,  True,  True,  True,  True,  True,\n",
       "         True],\n",
       "       [ True,  True,  True,  True,  True,  True,  True,  True,  True,\n",
       "         True],\n",
       "       [ True,  True,  True,  True,  True,  True,  True,  True,  True,\n",
       "         True],\n",
       "       [ True,  True,  True,  True,  True,  True,  True,  True,  True,\n",
       "         True],\n",
       "       [ True,  True,  True,  True,  True,  True,  True,  True,  True,\n",
       "         True],\n",
       "       [ True,  True,  True,  True,  True,  True,  True,  True,  True,\n",
       "         True],\n",
       "       [ True,  True,  True,  True,  True,  True,  True,  True,  True,\n",
       "         True],\n",
       "       [ True,  True,  True,  True,  True,  True,  True,  True,  True,\n",
       "         True]])"
      ]
     },
     "execution_count": 25,
     "metadata": {},
     "output_type": "execute_result"
    }
   ],
   "source": [
    "a > 0.5"
   ]
  },
  {
   "cell_type": "code",
   "execution_count": 26,
   "metadata": {},
   "outputs": [
    {
     "data": {
      "text/plain": [
       "(array([0, 0, 0, 0, 0, 0, 0, 0, 0, 0, 1, 1, 1, 1, 1, 1, 1, 1, 1, 1, 2, 2,\n",
       "        2, 2, 2, 2, 2, 2, 2, 2, 3, 3, 3, 3, 3, 3, 3, 3, 3, 3, 4, 4, 4, 4,\n",
       "        4, 4, 4, 4, 4, 4, 5, 5, 5, 5, 5, 5, 5, 5, 5, 5, 6, 6, 6, 6, 6, 6,\n",
       "        6, 6, 6, 6, 7, 7, 7, 7, 7, 7, 7, 7, 7, 7, 8, 8, 8, 8, 8, 8, 8, 8,\n",
       "        8, 8, 9, 9, 9, 9, 9, 9, 9, 9, 9, 9]),\n",
       " array([0, 1, 2, 3, 4, 5, 6, 7, 8, 9, 0, 1, 2, 3, 4, 5, 6, 7, 8, 9, 0, 1,\n",
       "        2, 3, 4, 5, 6, 7, 8, 9, 0, 1, 2, 3, 4, 5, 6, 7, 8, 9, 0, 1, 2, 3,\n",
       "        4, 5, 6, 7, 8, 9, 0, 1, 2, 3, 4, 5, 6, 7, 8, 9, 0, 1, 2, 3, 4, 5,\n",
       "        6, 7, 8, 9, 0, 1, 2, 3, 4, 5, 6, 7, 8, 9, 0, 1, 2, 3, 4, 5, 6, 7,\n",
       "        8, 9, 0, 1, 2, 3, 4, 5, 6, 7, 8, 9]))"
      ]
     },
     "execution_count": 26,
     "metadata": {},
     "output_type": "execute_result"
    }
   ],
   "source": [
    "np.nonzero(a>0.5)"
   ]
  },
  {
   "cell_type": "code",
   "execution_count": 27,
   "metadata": {},
   "outputs": [
    {
     "data": {
      "text/plain": [
       "array([[3, 2, 1, 1, 4, 8],\n",
       "       [8, 5, 3, 1, 9, 8],\n",
       "       [2, 6, 1, 1, 1, 7],\n",
       "       [6, 7, 4, 4, 5, 9],\n",
       "       [3, 5, 7, 4, 6, 8],\n",
       "       [3, 8, 5, 9, 2, 8],\n",
       "       [9, 6, 8, 2, 7, 6],\n",
       "       [9, 1, 1, 3, 1, 4],\n",
       "       [6, 1, 2, 1, 7, 6],\n",
       "       [9, 4, 6, 2, 6, 8]])"
      ]
     },
     "execution_count": 27,
     "metadata": {},
     "output_type": "execute_result"
    }
   ],
   "source": [
    "v = np.random.randint(-2, 10, 10)\n",
    "a[:,np.nonzero(v>0.5)[0]]"
   ]
  },
  {
   "cell_type": "code",
   "execution_count": 28,
   "metadata": {},
   "outputs": [
    {
     "data": {
      "text/plain": [
       "array([[3, 2, 1, 1, 4, 8],\n",
       "       [8, 5, 3, 1, 9, 8],\n",
       "       [2, 6, 1, 1, 1, 7],\n",
       "       [6, 7, 4, 4, 5, 9],\n",
       "       [3, 5, 7, 4, 6, 8],\n",
       "       [3, 8, 5, 9, 2, 8],\n",
       "       [9, 6, 8, 2, 7, 6],\n",
       "       [9, 1, 1, 3, 1, 4],\n",
       "       [6, 1, 2, 1, 7, 6],\n",
       "       [9, 4, 6, 2, 6, 8]])"
      ]
     },
     "execution_count": 28,
     "metadata": {},
     "output_type": "execute_result"
    }
   ],
   "source": [
    "a[:,v.T>0.5]"
   ]
  },
  {
   "cell_type": "code",
   "execution_count": 29,
   "metadata": {},
   "outputs": [],
   "source": [
    "a[a<0.5]=0"
   ]
  },
  {
   "cell_type": "code",
   "execution_count": 30,
   "metadata": {},
   "outputs": [
    {
     "data": {
      "text/plain": [
       "array([[3, 2, 9, 6, 1, 6, 1, 4, 5, 8],\n",
       "       [8, 5, 9, 3, 3, 5, 1, 9, 6, 8],\n",
       "       [2, 6, 9, 3, 1, 4, 1, 1, 7, 7],\n",
       "       [6, 7, 2, 5, 4, 8, 4, 5, 9, 9],\n",
       "       [3, 5, 7, 8, 7, 8, 4, 6, 9, 8],\n",
       "       [3, 8, 7, 9, 5, 4, 9, 2, 4, 8],\n",
       "       [9, 6, 5, 2, 8, 4, 2, 7, 6, 6],\n",
       "       [9, 1, 6, 3, 1, 4, 3, 1, 8, 4],\n",
       "       [6, 1, 8, 9, 2, 6, 1, 7, 7, 6],\n",
       "       [9, 4, 3, 2, 6, 2, 2, 6, 2, 8]])"
      ]
     },
     "execution_count": 30,
     "metadata": {},
     "output_type": "execute_result"
    }
   ],
   "source": [
    "a * (a>0.5)"
   ]
  },
  {
   "cell_type": "code",
   "execution_count": 31,
   "metadata": {},
   "outputs": [],
   "source": [
    "a[:] = 3"
   ]
  },
  {
   "cell_type": "code",
   "execution_count": 32,
   "metadata": {},
   "outputs": [],
   "source": [
    "y = a.copy()"
   ]
  },
  {
   "cell_type": "code",
   "execution_count": 33,
   "metadata": {},
   "outputs": [],
   "source": [
    "y = a[1,:].copy()"
   ]
  },
  {
   "cell_type": "code",
   "execution_count": 34,
   "metadata": {},
   "outputs": [],
   "source": [
    "y = a.flatten()"
   ]
  },
  {
   "cell_type": "code",
   "execution_count": 35,
   "metadata": {},
   "outputs": [
    {
     "data": {
      "text/plain": [
       "array([ 1.,  2.,  3.,  4.,  5.,  6.,  7.,  8.,  9., 10.])"
      ]
     },
     "execution_count": 35,
     "metadata": {},
     "output_type": "execute_result"
    }
   ],
   "source": [
    "np.arange(1.,11.)"
   ]
  },
  {
   "cell_type": "code",
   "execution_count": 36,
   "metadata": {},
   "outputs": [
    {
     "data": {
      "text/plain": [
       "array([0., 1., 2., 3., 4., 5., 6., 7., 8., 9.])"
      ]
     },
     "execution_count": 36,
     "metadata": {},
     "output_type": "execute_result"
    }
   ],
   "source": [
    "np.arange(10.)"
   ]
  },
  {
   "cell_type": "code",
   "execution_count": 37,
   "metadata": {},
   "outputs": [
    {
     "data": {
      "text/plain": [
       "array([ 1.,  2.,  3.,  4.,  5.,  6.,  7.,  8.,  9., 10.])"
      ]
     },
     "execution_count": 37,
     "metadata": {},
     "output_type": "execute_result"
    }
   ],
   "source": [
    "np.arange(1.,11.)[:]"
   ]
  },
  {
   "cell_type": "code",
   "execution_count": 38,
   "metadata": {},
   "outputs": [
    {
     "data": {
      "text/plain": [
       "array([[0., 0., 0., 0.],\n",
       "       [0., 0., 0., 0.],\n",
       "       [0., 0., 0., 0.]])"
      ]
     },
     "execution_count": 38,
     "metadata": {},
     "output_type": "execute_result"
    }
   ],
   "source": [
    "np.zeros((3,4))"
   ]
  },
  {
   "cell_type": "code",
   "execution_count": 39,
   "metadata": {},
   "outputs": [
    {
     "data": {
      "text/plain": [
       "array([[1., 1., 1., 1.],\n",
       "       [1., 1., 1., 1.],\n",
       "       [1., 1., 1., 1.]])"
      ]
     },
     "execution_count": 39,
     "metadata": {},
     "output_type": "execute_result"
    }
   ],
   "source": [
    "np.ones((3,4))"
   ]
  },
  {
   "cell_type": "code",
   "execution_count": 40,
   "metadata": {},
   "outputs": [
    {
     "data": {
      "text/plain": [
       "array([[1., 0., 0.],\n",
       "       [0., 1., 0.],\n",
       "       [0., 0., 1.]])"
      ]
     },
     "execution_count": 40,
     "metadata": {},
     "output_type": "execute_result"
    }
   ],
   "source": [
    "np.eye(3)"
   ]
  },
  {
   "cell_type": "code",
   "execution_count": 41,
   "metadata": {},
   "outputs": [
    {
     "data": {
      "text/plain": [
       "array([3, 3, 3, 3, 3, 3, 3, 3, 3, 3])"
      ]
     },
     "execution_count": 41,
     "metadata": {},
     "output_type": "execute_result"
    }
   ],
   "source": [
    "np.diag(a)"
   ]
  },
  {
   "cell_type": "code",
   "execution_count": 42,
   "metadata": {},
   "outputs": [
    {
     "data": {
      "text/plain": [
       "array([3, 3, 3, 3, 3, 3, 3, 3, 3, 3])"
      ]
     },
     "execution_count": 42,
     "metadata": {},
     "output_type": "execute_result"
    }
   ],
   "source": [
    "np.diag(a,0)"
   ]
  },
  {
   "cell_type": "code",
   "execution_count": 43,
   "metadata": {},
   "outputs": [
    {
     "data": {
      "text/plain": [
       "array([[0.30684848, 0.98428237, 0.76974404, 0.95529201],\n",
       "       [0.94798779, 0.64498183, 0.61244636, 0.92778866],\n",
       "       [0.69491876, 0.89019147, 0.18871753, 0.09431126]])"
      ]
     },
     "execution_count": 43,
     "metadata": {},
     "output_type": "execute_result"
    }
   ],
   "source": [
    "np.random.rand(3,4)"
   ]
  },
  {
   "cell_type": "code",
   "execution_count": 44,
   "metadata": {},
   "outputs": [
    {
     "data": {
      "text/plain": [
       "array([1.        , 1.66666667, 2.33333333, 3.        ])"
      ]
     },
     "execution_count": 44,
     "metadata": {},
     "output_type": "execute_result"
    }
   ],
   "source": [
    "np.linspace(1,3,4)"
   ]
  },
  {
   "cell_type": "code",
   "execution_count": 45,
   "metadata": {},
   "outputs": [
    {
     "data": {
      "text/plain": [
       "array([[[0., 0., 0., 0., 0., 0.],\n",
       "        [1., 1., 1., 1., 1., 1.],\n",
       "        [2., 2., 2., 2., 2., 2.],\n",
       "        [3., 3., 3., 3., 3., 3.],\n",
       "        [4., 4., 4., 4., 4., 4.],\n",
       "        [5., 5., 5., 5., 5., 5.],\n",
       "        [6., 6., 6., 6., 6., 6.],\n",
       "        [7., 7., 7., 7., 7., 7.],\n",
       "        [8., 8., 8., 8., 8., 8.]],\n",
       "\n",
       "       [[0., 1., 2., 3., 4., 5.],\n",
       "        [0., 1., 2., 3., 4., 5.],\n",
       "        [0., 1., 2., 3., 4., 5.],\n",
       "        [0., 1., 2., 3., 4., 5.],\n",
       "        [0., 1., 2., 3., 4., 5.],\n",
       "        [0., 1., 2., 3., 4., 5.],\n",
       "        [0., 1., 2., 3., 4., 5.],\n",
       "        [0., 1., 2., 3., 4., 5.],\n",
       "        [0., 1., 2., 3., 4., 5.]]])"
      ]
     },
     "execution_count": 45,
     "metadata": {},
     "output_type": "execute_result"
    }
   ],
   "source": [
    "np.mgrid[0:9.,0:6.]"
   ]
  },
  {
   "cell_type": "code",
   "execution_count": 46,
   "metadata": {},
   "outputs": [
    {
     "data": {
      "text/plain": [
       "[array([[0.],\n",
       "        [1.],\n",
       "        [2.],\n",
       "        [3.],\n",
       "        [4.],\n",
       "        [5.],\n",
       "        [6.],\n",
       "        [7.],\n",
       "        [8.]]), array([[0., 1., 2., 3., 4., 5.]])]"
      ]
     },
     "execution_count": 46,
     "metadata": {},
     "output_type": "execute_result"
    }
   ],
   "source": [
    "np.ogrid[0:9.,0:6.]"
   ]
  },
  {
   "cell_type": "code",
   "execution_count": 47,
   "metadata": {},
   "outputs": [
    {
     "data": {
      "text/plain": [
       "[array([[1, 2, 4],\n",
       "        [1, 2, 4],\n",
       "        [1, 2, 4]]), array([[2, 2, 2],\n",
       "        [4, 4, 4],\n",
       "        [5, 5, 5]])]"
      ]
     },
     "execution_count": 47,
     "metadata": {},
     "output_type": "execute_result"
    }
   ],
   "source": [
    "np.meshgrid([1,2,4],[2,4,5])"
   ]
  },
  {
   "cell_type": "code",
   "execution_count": 48,
   "metadata": {},
   "outputs": [
    {
     "data": {
      "text/plain": [
       "array([[3, 3, 3, ..., 3, 3, 3],\n",
       "       [3, 3, 3, ..., 3, 3, 3],\n",
       "       [3, 3, 3, ..., 3, 3, 3],\n",
       "       ...,\n",
       "       [3, 3, 3, ..., 3, 3, 3],\n",
       "       [3, 3, 3, ..., 3, 3, 3],\n",
       "       [3, 3, 3, ..., 3, 3, 3]])"
      ]
     },
     "execution_count": 48,
     "metadata": {},
     "output_type": "execute_result"
    }
   ],
   "source": [
    "np.tile(a, (100, 1))"
   ]
  },
  {
   "cell_type": "code",
   "execution_count": 49,
   "metadata": {},
   "outputs": [
    {
     "data": {
      "text/plain": [
       "array([[3, 3, 3, 3, 3, 3, 3, 3, 3, 3, 2, 6, 2, 9, 6, 7, 4, 1, 5, 7],\n",
       "       [3, 3, 3, 3, 3, 3, 3, 3, 3, 3, 8, 9, 2, 5, 5, 2, 3, 4, 2, 1],\n",
       "       [3, 3, 3, 3, 3, 3, 3, 3, 3, 3, 6, 5, 1, 5, 9, 3, 3, 2, 9, 6],\n",
       "       [3, 3, 3, 3, 3, 3, 3, 3, 3, 3, 2, 3, 7, 8, 8, 4, 7, 9, 8, 3],\n",
       "       [3, 3, 3, 3, 3, 3, 3, 3, 3, 3, 5, 2, 5, 4, 2, 8, 8, 8, 3, 7],\n",
       "       [3, 3, 3, 3, 3, 3, 3, 3, 3, 3, 2, 5, 9, 2, 7, 9, 3, 7, 7, 7],\n",
       "       [3, 3, 3, 3, 3, 3, 3, 3, 3, 3, 7, 4, 4, 6, 9, 9, 1, 7, 5, 2],\n",
       "       [3, 3, 3, 3, 3, 3, 3, 3, 3, 3, 2, 4, 3, 6, 5, 1, 7, 2, 1, 7],\n",
       "       [3, 3, 3, 3, 3, 3, 3, 3, 3, 3, 3, 5, 1, 9, 7, 8, 8, 5, 7, 9],\n",
       "       [3, 3, 3, 3, 3, 3, 3, 3, 3, 3, 6, 4, 6, 3, 4, 2, 3, 4, 9, 3]])"
      ]
     },
     "execution_count": 49,
     "metadata": {},
     "output_type": "execute_result"
    }
   ],
   "source": [
    "np.concatenate((a,b),1)\n",
    "np.hstack((a,b))\n",
    "np.column_stack((a,b))"
   ]
  },
  {
   "cell_type": "code",
   "execution_count": 50,
   "metadata": {},
   "outputs": [
    {
     "data": {
      "text/plain": [
       "3"
      ]
     },
     "execution_count": 50,
     "metadata": {},
     "output_type": "execute_result"
    }
   ],
   "source": [
    "a.max()"
   ]
  },
  {
   "cell_type": "code",
   "execution_count": 51,
   "metadata": {},
   "outputs": [
    {
     "data": {
      "text/plain": [
       "array([3, 3, 3, 3, 3, 3, 3, 3, 3, 3])"
      ]
     },
     "execution_count": 51,
     "metadata": {},
     "output_type": "execute_result"
    }
   ],
   "source": [
    "a.max(0)"
   ]
  },
  {
   "cell_type": "code",
   "execution_count": 52,
   "metadata": {},
   "outputs": [
    {
     "data": {
      "text/plain": [
       "array([[3, 6, 3, 9, 6, 7, 4, 3, 5, 7],\n",
       "       [8, 9, 3, 5, 5, 3, 3, 4, 3, 3],\n",
       "       [6, 5, 3, 5, 9, 3, 3, 3, 9, 6],\n",
       "       [3, 3, 7, 8, 8, 4, 7, 9, 8, 3],\n",
       "       [5, 3, 5, 4, 3, 8, 8, 8, 3, 7],\n",
       "       [3, 5, 9, 3, 7, 9, 3, 7, 7, 7],\n",
       "       [7, 4, 4, 6, 9, 9, 3, 7, 5, 3],\n",
       "       [3, 4, 3, 6, 5, 3, 7, 3, 3, 7],\n",
       "       [3, 5, 3, 9, 7, 8, 8, 5, 7, 9],\n",
       "       [6, 4, 6, 3, 4, 3, 3, 4, 9, 3]])"
      ]
     },
     "execution_count": 52,
     "metadata": {},
     "output_type": "execute_result"
    }
   ],
   "source": [
    "np.maximum(a, b)"
   ]
  },
  {
   "cell_type": "code",
   "execution_count": 53,
   "metadata": {},
   "outputs": [
    {
     "data": {
      "text/plain": [
       "10.14889156509222"
      ]
     },
     "execution_count": 53,
     "metadata": {},
     "output_type": "execute_result"
    }
   ],
   "source": [
    "np.sqrt(v @ v)"
   ]
  },
  {
   "cell_type": "code",
   "execution_count": 54,
   "metadata": {},
   "outputs": [
    {
     "data": {
      "text/plain": [
       "array([[ True,  True,  True,  True,  True,  True,  True,  True,  True,\n",
       "         True],\n",
       "       [ True,  True,  True,  True,  True,  True,  True,  True,  True,\n",
       "         True],\n",
       "       [ True,  True,  True,  True,  True,  True,  True,  True,  True,\n",
       "         True],\n",
       "       [ True,  True,  True,  True,  True,  True,  True,  True,  True,\n",
       "         True],\n",
       "       [ True,  True,  True,  True,  True,  True,  True,  True,  True,\n",
       "         True],\n",
       "       [ True,  True,  True,  True,  True,  True,  True,  True,  True,\n",
       "         True],\n",
       "       [ True,  True,  True,  True,  True,  True,  True,  True,  True,\n",
       "         True],\n",
       "       [ True,  True,  True,  True,  True,  True,  True,  True,  True,\n",
       "         True],\n",
       "       [ True,  True,  True,  True,  True,  True,  True,  True,  True,\n",
       "         True],\n",
       "       [ True,  True,  True,  True,  True,  True,  True,  True,  True,\n",
       "         True]])"
      ]
     },
     "execution_count": 54,
     "metadata": {},
     "output_type": "execute_result"
    }
   ],
   "source": [
    "np.logical_and(a,b)"
   ]
  },
  {
   "cell_type": "code",
   "execution_count": 55,
   "metadata": {},
   "outputs": [
    {
     "data": {
      "text/plain": [
       "array([[2, 2, 2, 1, 2, 3, 0, 1, 1, 3],\n",
       "       [0, 1, 2, 1, 1, 2, 3, 0, 2, 1],\n",
       "       [2, 1, 1, 1, 1, 3, 3, 2, 1, 2],\n",
       "       [2, 3, 3, 0, 0, 0, 3, 1, 0, 3],\n",
       "       [1, 2, 1, 0, 2, 0, 0, 0, 3, 3],\n",
       "       [2, 1, 1, 2, 3, 1, 3, 3, 3, 3],\n",
       "       [3, 0, 0, 2, 1, 1, 1, 3, 1, 2],\n",
       "       [2, 0, 3, 2, 1, 1, 3, 2, 1, 3],\n",
       "       [3, 1, 1, 1, 3, 0, 0, 1, 3, 1],\n",
       "       [2, 0, 2, 3, 0, 2, 3, 0, 1, 3]])"
      ]
     },
     "execution_count": 55,
     "metadata": {},
     "output_type": "execute_result"
    }
   ],
   "source": [
    "a & b"
   ]
  },
  {
   "cell_type": "code",
   "execution_count": 56,
   "metadata": {},
   "outputs": [
    {
     "data": {
      "text/plain": [
       "array([[ 3,  7,  3, 11,  7,  7,  7,  3,  7,  7],\n",
       "       [11, 11,  3,  7,  7,  3,  3,  7,  3,  3],\n",
       "       [ 7,  7,  3,  7, 11,  3,  3,  3, 11,  7],\n",
       "       [ 3,  3,  7, 11, 11,  7,  7, 11, 11,  3],\n",
       "       [ 7,  3,  7,  7,  3, 11, 11, 11,  3,  7],\n",
       "       [ 3,  7, 11,  3,  7, 11,  3,  7,  7,  7],\n",
       "       [ 7,  7,  7,  7, 11, 11,  3,  7,  7,  3],\n",
       "       [ 3,  7,  3,  7,  7,  3,  7,  3,  3,  7],\n",
       "       [ 3,  7,  3, 11,  7, 11, 11,  7,  7, 11],\n",
       "       [ 7,  7,  7,  3,  7,  3,  3,  7, 11,  3]])"
      ]
     },
     "execution_count": 56,
     "metadata": {},
     "output_type": "execute_result"
    }
   ],
   "source": [
    "a | b"
   ]
  },
  {
   "cell_type": "code",
   "execution_count": 57,
   "metadata": {},
   "outputs": [
    {
     "data": {
      "text/plain": [
       "array([[0.33333333]])"
      ]
     },
     "execution_count": 57,
     "metadata": {},
     "output_type": "execute_result"
    }
   ],
   "source": [
    "np.linalg.inv(a[1:2, 1:2])"
   ]
  },
  {
   "cell_type": "code",
   "execution_count": 58,
   "metadata": {},
   "outputs": [
    {
     "data": {
      "text/plain": [
       "array([[0.00333333, 0.00333333, 0.00333333, 0.00333333, 0.00333333,\n",
       "        0.00333333, 0.00333333, 0.00333333, 0.00333333, 0.00333333],\n",
       "       [0.00333333, 0.00333333, 0.00333333, 0.00333333, 0.00333333,\n",
       "        0.00333333, 0.00333333, 0.00333333, 0.00333333, 0.00333333],\n",
       "       [0.00333333, 0.00333333, 0.00333333, 0.00333333, 0.00333333,\n",
       "        0.00333333, 0.00333333, 0.00333333, 0.00333333, 0.00333333],\n",
       "       [0.00333333, 0.00333333, 0.00333333, 0.00333333, 0.00333333,\n",
       "        0.00333333, 0.00333333, 0.00333333, 0.00333333, 0.00333333],\n",
       "       [0.00333333, 0.00333333, 0.00333333, 0.00333333, 0.00333333,\n",
       "        0.00333333, 0.00333333, 0.00333333, 0.00333333, 0.00333333],\n",
       "       [0.00333333, 0.00333333, 0.00333333, 0.00333333, 0.00333333,\n",
       "        0.00333333, 0.00333333, 0.00333333, 0.00333333, 0.00333333],\n",
       "       [0.00333333, 0.00333333, 0.00333333, 0.00333333, 0.00333333,\n",
       "        0.00333333, 0.00333333, 0.00333333, 0.00333333, 0.00333333],\n",
       "       [0.00333333, 0.00333333, 0.00333333, 0.00333333, 0.00333333,\n",
       "        0.00333333, 0.00333333, 0.00333333, 0.00333333, 0.00333333],\n",
       "       [0.00333333, 0.00333333, 0.00333333, 0.00333333, 0.00333333,\n",
       "        0.00333333, 0.00333333, 0.00333333, 0.00333333, 0.00333333],\n",
       "       [0.00333333, 0.00333333, 0.00333333, 0.00333333, 0.00333333,\n",
       "        0.00333333, 0.00333333, 0.00333333, 0.00333333, 0.00333333]])"
      ]
     },
     "execution_count": 58,
     "metadata": {},
     "output_type": "execute_result"
    }
   ],
   "source": [
    "np.linalg.pinv(a)"
   ]
  },
  {
   "cell_type": "code",
   "execution_count": 59,
   "metadata": {},
   "outputs": [
    {
     "data": {
      "text/plain": [
       "1"
      ]
     },
     "execution_count": 59,
     "metadata": {},
     "output_type": "execute_result"
    }
   ],
   "source": [
    "np.linalg.matrix_rank(a)"
   ]
  },
  {
   "cell_type": "code",
   "execution_count": 60,
   "metadata": {},
   "outputs": [
    {
     "name": "stderr",
     "output_type": "stream",
     "text": [
      "/Users/dingzheyu/anaconda3/lib/python3.6/site-packages/ipykernel_launcher.py:1: FutureWarning: `rcond` parameter will change to the default of machine precision times ``max(M, N)`` where M and N are the input matrix dimensions.\n",
      "To use the future default and silence this warning we advise to pass `rcond=None`, to keep using the old, explicitly pass `rcond=-1`.\n",
      "  \"\"\"Entry point for launching an IPython kernel.\n"
     ]
    },
    {
     "data": {
      "text/plain": [
       "(array([[0.14333333, 0.15666667, 0.13333333, 0.19      , 0.20666667,\n",
       "         0.17666667, 0.15666667, 0.16333333, 0.18666667, 0.17333333],\n",
       "        [0.14333333, 0.15666667, 0.13333333, 0.19      , 0.20666667,\n",
       "         0.17666667, 0.15666667, 0.16333333, 0.18666667, 0.17333333],\n",
       "        [0.14333333, 0.15666667, 0.13333333, 0.19      , 0.20666667,\n",
       "         0.17666667, 0.15666667, 0.16333333, 0.18666667, 0.17333333],\n",
       "        [0.14333333, 0.15666667, 0.13333333, 0.19      , 0.20666667,\n",
       "         0.17666667, 0.15666667, 0.16333333, 0.18666667, 0.17333333],\n",
       "        [0.14333333, 0.15666667, 0.13333333, 0.19      , 0.20666667,\n",
       "         0.17666667, 0.15666667, 0.16333333, 0.18666667, 0.17333333],\n",
       "        [0.14333333, 0.15666667, 0.13333333, 0.19      , 0.20666667,\n",
       "         0.17666667, 0.15666667, 0.16333333, 0.18666667, 0.17333333],\n",
       "        [0.14333333, 0.15666667, 0.13333333, 0.19      , 0.20666667,\n",
       "         0.17666667, 0.15666667, 0.16333333, 0.18666667, 0.17333333],\n",
       "        [0.14333333, 0.15666667, 0.13333333, 0.19      , 0.20666667,\n",
       "         0.17666667, 0.15666667, 0.16333333, 0.18666667, 0.17333333],\n",
       "        [0.14333333, 0.15666667, 0.13333333, 0.19      , 0.20666667,\n",
       "         0.17666667, 0.15666667, 0.16333333, 0.18666667, 0.17333333],\n",
       "        [0.14333333, 0.15666667, 0.13333333, 0.19      , 0.20666667,\n",
       "         0.17666667, 0.15666667, 0.16333333, 0.18666667, 0.17333333]]),\n",
       " array([], dtype=float64),\n",
       " 1,\n",
       " array([3.00000000e+001, 5.83700565e-016, 8.75811540e-047, 5.48350007e-078,\n",
       "        2.62450743e-109, 5.36630706e-142, 2.95853564e-175, 0.00000000e+000,\n",
       "        0.00000000e+000, 0.00000000e+000]))"
      ]
     },
     "execution_count": 60,
     "metadata": {},
     "output_type": "execute_result"
    }
   ],
   "source": [
    "np.linalg.lstsq(a,b)"
   ]
  },
  {
   "cell_type": "code",
   "execution_count": 61,
   "metadata": {},
   "outputs": [],
   "source": [
    "U, S, Vh = np.linalg.svd(np.random.randint(1, 9, (10, 10, 10)))\n",
    "V = Vh.T"
   ]
  },
  {
   "cell_type": "code",
   "execution_count": 62,
   "metadata": {},
   "outputs": [
    {
     "data": {
      "text/plain": [
       "array([[1.]])"
      ]
     },
     "execution_count": 62,
     "metadata": {},
     "output_type": "execute_result"
    }
   ],
   "source": [
    "np.linalg.cholesky(np.random.randint(1, 2, (1, 1))).T"
   ]
  },
  {
   "cell_type": "code",
   "execution_count": 63,
   "metadata": {},
   "outputs": [],
   "source": [
    "D,V = np.linalg.eig(a)"
   ]
  },
  {
   "cell_type": "code",
   "execution_count": 64,
   "metadata": {},
   "outputs": [],
   "source": [
    "D,V = scipy.linalg.eig(a,b)"
   ]
  },
  {
   "cell_type": "code",
   "execution_count": 65,
   "metadata": {},
   "outputs": [],
   "source": [
    "Q,R = scipy.linalg.qr(a)"
   ]
  },
  {
   "cell_type": "code",
   "execution_count": 66,
   "metadata": {},
   "outputs": [
    {
     "name": "stderr",
     "output_type": "stream",
     "text": [
      "/Users/dingzheyu/anaconda3/lib/python3.6/site-packages/ipykernel_launcher.py:1: LinAlgWarning: Diagonal number 2 is exactly zero. Singular matrix.\n",
      "  \"\"\"Entry point for launching an IPython kernel.\n"
     ]
    }
   ],
   "source": [
    "LU,P = scipy.linalg.lu_factor(a)"
   ]
  },
  {
   "cell_type": "code",
   "execution_count": 67,
   "metadata": {},
   "outputs": [
    {
     "data": {
      "text/plain": [
       "array([[30.+0.j,  0.+0.j,  0.+0.j,  0.+0.j,  0.+0.j,  0.+0.j,  0.+0.j,\n",
       "         0.+0.j,  0.+0.j,  0.+0.j],\n",
       "       [30.+0.j,  0.+0.j,  0.+0.j,  0.+0.j,  0.+0.j,  0.+0.j,  0.+0.j,\n",
       "         0.+0.j,  0.+0.j,  0.+0.j],\n",
       "       [30.+0.j,  0.+0.j,  0.+0.j,  0.+0.j,  0.+0.j,  0.+0.j,  0.+0.j,\n",
       "         0.+0.j,  0.+0.j,  0.+0.j],\n",
       "       [30.+0.j,  0.+0.j,  0.+0.j,  0.+0.j,  0.+0.j,  0.+0.j,  0.+0.j,\n",
       "         0.+0.j,  0.+0.j,  0.+0.j],\n",
       "       [30.+0.j,  0.+0.j,  0.+0.j,  0.+0.j,  0.+0.j,  0.+0.j,  0.+0.j,\n",
       "         0.+0.j,  0.+0.j,  0.+0.j],\n",
       "       [30.+0.j,  0.+0.j,  0.+0.j,  0.+0.j,  0.+0.j,  0.+0.j,  0.+0.j,\n",
       "         0.+0.j,  0.+0.j,  0.+0.j],\n",
       "       [30.+0.j,  0.+0.j,  0.+0.j,  0.+0.j,  0.+0.j,  0.+0.j,  0.+0.j,\n",
       "         0.+0.j,  0.+0.j,  0.+0.j],\n",
       "       [30.+0.j,  0.+0.j,  0.+0.j,  0.+0.j,  0.+0.j,  0.+0.j,  0.+0.j,\n",
       "         0.+0.j,  0.+0.j,  0.+0.j],\n",
       "       [30.+0.j,  0.+0.j,  0.+0.j,  0.+0.j,  0.+0.j,  0.+0.j,  0.+0.j,\n",
       "         0.+0.j,  0.+0.j,  0.+0.j],\n",
       "       [30.+0.j,  0.+0.j,  0.+0.j,  0.+0.j,  0.+0.j,  0.+0.j,  0.+0.j,\n",
       "         0.+0.j,  0.+0.j,  0.+0.j]])"
      ]
     },
     "execution_count": 67,
     "metadata": {},
     "output_type": "execute_result"
    }
   ],
   "source": [
    "np.fft.fft(a)"
   ]
  },
  {
   "cell_type": "code",
   "execution_count": 68,
   "metadata": {},
   "outputs": [
    {
     "data": {
      "text/plain": [
       "array([[3.+0.j, 0.+0.j, 0.+0.j, 0.+0.j, 0.+0.j, 0.+0.j, 0.+0.j, 0.+0.j,\n",
       "        0.+0.j, 0.+0.j],\n",
       "       [3.+0.j, 0.+0.j, 0.+0.j, 0.+0.j, 0.+0.j, 0.+0.j, 0.+0.j, 0.+0.j,\n",
       "        0.+0.j, 0.+0.j],\n",
       "       [3.+0.j, 0.+0.j, 0.+0.j, 0.+0.j, 0.+0.j, 0.+0.j, 0.+0.j, 0.+0.j,\n",
       "        0.+0.j, 0.+0.j],\n",
       "       [3.+0.j, 0.+0.j, 0.+0.j, 0.+0.j, 0.+0.j, 0.+0.j, 0.+0.j, 0.+0.j,\n",
       "        0.+0.j, 0.+0.j],\n",
       "       [3.+0.j, 0.+0.j, 0.+0.j, 0.+0.j, 0.+0.j, 0.+0.j, 0.+0.j, 0.+0.j,\n",
       "        0.+0.j, 0.+0.j],\n",
       "       [3.+0.j, 0.+0.j, 0.+0.j, 0.+0.j, 0.+0.j, 0.+0.j, 0.+0.j, 0.+0.j,\n",
       "        0.+0.j, 0.+0.j],\n",
       "       [3.+0.j, 0.+0.j, 0.+0.j, 0.+0.j, 0.+0.j, 0.+0.j, 0.+0.j, 0.+0.j,\n",
       "        0.+0.j, 0.+0.j],\n",
       "       [3.+0.j, 0.+0.j, 0.+0.j, 0.+0.j, 0.+0.j, 0.+0.j, 0.+0.j, 0.+0.j,\n",
       "        0.+0.j, 0.+0.j],\n",
       "       [3.+0.j, 0.+0.j, 0.+0.j, 0.+0.j, 0.+0.j, 0.+0.j, 0.+0.j, 0.+0.j,\n",
       "        0.+0.j, 0.+0.j],\n",
       "       [3.+0.j, 0.+0.j, 0.+0.j, 0.+0.j, 0.+0.j, 0.+0.j, 0.+0.j, 0.+0.j,\n",
       "        0.+0.j, 0.+0.j]])"
      ]
     },
     "execution_count": 68,
     "metadata": {},
     "output_type": "execute_result"
    }
   ],
   "source": [
    "np.fft.ifft(a)"
   ]
  },
  {
   "cell_type": "code",
   "execution_count": 69,
   "metadata": {},
   "outputs": [
    {
     "data": {
      "text/plain": [
       "array([[3, 3, 3, 3, 3, 3, 3, 3, 3, 3],\n",
       "       [3, 3, 3, 3, 3, 3, 3, 3, 3, 3],\n",
       "       [3, 3, 3, 3, 3, 3, 3, 3, 3, 3],\n",
       "       [3, 3, 3, 3, 3, 3, 3, 3, 3, 3],\n",
       "       [3, 3, 3, 3, 3, 3, 3, 3, 3, 3],\n",
       "       [3, 3, 3, 3, 3, 3, 3, 3, 3, 3],\n",
       "       [3, 3, 3, 3, 3, 3, 3, 3, 3, 3],\n",
       "       [3, 3, 3, 3, 3, 3, 3, 3, 3, 3],\n",
       "       [3, 3, 3, 3, 3, 3, 3, 3, 3, 3],\n",
       "       [3, 3, 3, 3, 3, 3, 3, 3, 3, 3]])"
      ]
     },
     "execution_count": 69,
     "metadata": {},
     "output_type": "execute_result"
    }
   ],
   "source": [
    "np.sort(a)"
   ]
  },
  {
   "cell_type": "code",
   "execution_count": 70,
   "metadata": {},
   "outputs": [],
   "source": [
    "I = np.argsort(a[:,1])"
   ]
  },
  {
   "cell_type": "code",
   "execution_count": 71,
   "metadata": {},
   "outputs": [
    {
     "name": "stderr",
     "output_type": "stream",
     "text": [
      "/Users/dingzheyu/anaconda3/lib/python3.6/site-packages/ipykernel_launcher.py:1: FutureWarning: `rcond` parameter will change to the default of machine precision times ``max(M, N)`` where M and N are the input matrix dimensions.\n",
      "To use the future default and silence this warning we advise to pass `rcond=None`, to keep using the old, explicitly pass `rcond=-1`.\n",
      "  \"\"\"Entry point for launching an IPython kernel.\n"
     ]
    },
    {
     "data": {
      "text/plain": [
       "(array([[0.14333333, 0.15666667, 0.13333333, 0.19      , 0.20666667,\n",
       "         0.17666667, 0.15666667, 0.16333333, 0.18666667, 0.17333333],\n",
       "        [0.14333333, 0.15666667, 0.13333333, 0.19      , 0.20666667,\n",
       "         0.17666667, 0.15666667, 0.16333333, 0.18666667, 0.17333333],\n",
       "        [0.14333333, 0.15666667, 0.13333333, 0.19      , 0.20666667,\n",
       "         0.17666667, 0.15666667, 0.16333333, 0.18666667, 0.17333333],\n",
       "        [0.14333333, 0.15666667, 0.13333333, 0.19      , 0.20666667,\n",
       "         0.17666667, 0.15666667, 0.16333333, 0.18666667, 0.17333333],\n",
       "        [0.14333333, 0.15666667, 0.13333333, 0.19      , 0.20666667,\n",
       "         0.17666667, 0.15666667, 0.16333333, 0.18666667, 0.17333333],\n",
       "        [0.14333333, 0.15666667, 0.13333333, 0.19      , 0.20666667,\n",
       "         0.17666667, 0.15666667, 0.16333333, 0.18666667, 0.17333333],\n",
       "        [0.14333333, 0.15666667, 0.13333333, 0.19      , 0.20666667,\n",
       "         0.17666667, 0.15666667, 0.16333333, 0.18666667, 0.17333333],\n",
       "        [0.14333333, 0.15666667, 0.13333333, 0.19      , 0.20666667,\n",
       "         0.17666667, 0.15666667, 0.16333333, 0.18666667, 0.17333333],\n",
       "        [0.14333333, 0.15666667, 0.13333333, 0.19      , 0.20666667,\n",
       "         0.17666667, 0.15666667, 0.16333333, 0.18666667, 0.17333333],\n",
       "        [0.14333333, 0.15666667, 0.13333333, 0.19      , 0.20666667,\n",
       "         0.17666667, 0.15666667, 0.16333333, 0.18666667, 0.17333333]]),\n",
       " array([], dtype=float64),\n",
       " 1,\n",
       " array([3.00000000e+001, 5.83700565e-016, 8.75811540e-047, 5.48350007e-078,\n",
       "        2.62450743e-109, 5.36630706e-142, 2.95853564e-175, 0.00000000e+000,\n",
       "        0.00000000e+000, 0.00000000e+000]))"
      ]
     },
     "execution_count": 71,
     "metadata": {},
     "output_type": "execute_result"
    }
   ],
   "source": [
    "np.linalg.lstsq(a,b)"
   ]
  },
  {
   "cell_type": "code",
   "execution_count": 72,
   "metadata": {},
   "outputs": [
    {
     "data": {
      "text/plain": [
       "array([3])"
      ]
     },
     "execution_count": 72,
     "metadata": {},
     "output_type": "execute_result"
    }
   ],
   "source": [
    "np.unique(a)"
   ]
  },
  {
   "cell_type": "code",
   "execution_count": 73,
   "metadata": {},
   "outputs": [
    {
     "data": {
      "text/plain": [
       "array([[3, 3, 3, 3, 3, 3, 3, 3, 3, 3],\n",
       "       [3, 3, 3, 3, 3, 3, 3, 3, 3, 3],\n",
       "       [3, 3, 3, 3, 3, 3, 3, 3, 3, 3],\n",
       "       [3, 3, 3, 3, 3, 3, 3, 3, 3, 3],\n",
       "       [3, 3, 3, 3, 3, 3, 3, 3, 3, 3],\n",
       "       [3, 3, 3, 3, 3, 3, 3, 3, 3, 3],\n",
       "       [3, 3, 3, 3, 3, 3, 3, 3, 3, 3],\n",
       "       [3, 3, 3, 3, 3, 3, 3, 3, 3, 3],\n",
       "       [3, 3, 3, 3, 3, 3, 3, 3, 3, 3],\n",
       "       [3, 3, 3, 3, 3, 3, 3, 3, 3, 3]])"
      ]
     },
     "execution_count": 73,
     "metadata": {},
     "output_type": "execute_result"
    }
   ],
   "source": [
    "a.squeeze()"
   ]
  },
  {
   "cell_type": "markdown",
   "metadata": {},
   "source": [
    "## Task 3"
   ]
  },
  {
   "cell_type": "code",
   "execution_count": 74,
   "metadata": {},
   "outputs": [
    {
     "data": {
      "text/plain": [
       "<Figure size 640x480 with 1 Axes>"
      ]
     },
     "metadata": {},
     "output_type": "display_data"
    }
   ],
   "source": [
    "import matplotlib.pyplot as plt\n",
    "plt.plot([1,2,3,4], [1,2,7,14])\n",
    "plt.axis([0, 6, 0, 20])\n",
    "plt.show()"
   ]
  },
  {
   "cell_type": "markdown",
   "metadata": {},
   "source": [
    "## Task 4"
   ]
  },
  {
   "cell_type": "code",
   "execution_count": 75,
   "metadata": {},
   "outputs": [
    {
     "data": {
      "image/png": "[encoded data removed]",
      "text/plain": [
       "<Figure size 432x288 with 1 Axes>"
      ]
     },
     "metadata": {},
     "output_type": "display_data"
    }
   ],
   "source": [
    "plt.scatter([1,2,3,4], [1,2,7,14])\n",
    "plt.show()"
   ]
  },
  {
   "cell_type": "markdown",
   "metadata": {},
   "source": [
    "## Task 5"
   ]
  },
  {
   "cell_type": "markdown",
   "metadata": {},
   "source": [
    "Acccount name: BenDing96"
   ]
  },
  {
   "cell_type": "markdown",
   "metadata": {},
   "source": [
    "## Task 6"
   ]
  },
  {
   "cell_type": "markdown",
   "metadata": {},
   "source": [
    "https://github.com/BenDing96/Deep-Learning"
   ]
  },
  {
   "cell_type": "code",
   "execution_count": null,
   "metadata": {},
   "outputs": [],
   "source": []
  }
 ],
 "metadata": {
  "kernelspec": {
   "display_name": "Python 3",
   "language": "python",
   "name": "python3"
  },
  "language_info": {
   "codemirror_mode": {
    "name": "ipython",
    "version": 3
   },
   "file_extension": ".py",
   "mimetype": "text/x-python",
   "name": "python",
   "nbconvert_exporter": "python",
   "pygments_lexer": "ipython3",
   "version": "3.6.5"
  }
 },
 "nbformat": 4,
 "nbformat_minor": 2
}
